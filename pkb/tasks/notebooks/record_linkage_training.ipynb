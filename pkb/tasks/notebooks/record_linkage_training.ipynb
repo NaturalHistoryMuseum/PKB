{
 "cells": [
  {
   "cell_type": "code",
   "execution_count": 1,
   "id": "5f6531dd",
   "metadata": {},
   "outputs": [
    {
     "data": {
      "text/plain": [
       "0"
      ]
     },
     "execution_count": 1,
     "metadata": {},
     "output_type": "execute_result"
    }
   ],
   "source": [
    "import argparse\n",
    "import numpy as np\n",
    "import pandas as pd\n",
    "import itertools\n",
    "import os\n",
    "import tqdm\n",
    "import matplotlib.pyplot as plt\n",
    "from collections import defaultdict\n",
    "from sklearn.metrics import roc_auc_score\n",
    "import gc\n",
    "from thefuzz import fuzz\n",
    "from thefuzz import process\n",
    "import time\n",
    "import re\n",
    "import recordlinkage\n",
    "from sklearn.model_selection import train_test_split\n",
    "\n",
    "gc.collect()"
   ]
  },
  {
   "cell_type": "code",
   "execution_count": 2,
   "id": "6b66e831",
   "metadata": {},
   "outputs": [
    {
     "name": "stdout",
     "output_type": "stream",
     "text": [
      "                              label  dateOfBirth  dateOfDeath  \\\n",
      "id                                                              \n",
      "Q100142069             Frida Eggens          NaN          NaN   \n",
      "Q100146795       Elizabeth Harrison       1792.0       1834.0   \n",
      "Q100149196              Russell Cox          NaN          NaN   \n",
      "Q100152296  Alda Pereira da Fonseca       1882.0          NaN   \n",
      "Q100156193  Laurence Henry Millener       1914.0       2000.0   \n",
      "\n",
      "           countryOfCitizenshipISO harvardIndex             bionomia  \\\n",
      "id                                                                     \n",
      "Q100142069                      SE          NaN                  NaN   \n",
      "Q100146795                      GB          NaN           Q100146795   \n",
      "Q100149196                     NaN          NaN  0000-0001-5149-1709   \n",
      "Q100152296                      BR          NaN                  NaN   \n",
      "Q100156193                      NZ          NaN           Q100156193   \n",
      "\n",
      "           authorAbbrv                                            aliases  \\\n",
      "id                                                                          \n",
      "Q100142069      Eggens                                             Eggens   \n",
      "Q100146795         NaN                     Mrs Arnold Harrison, Mrs A. H.   \n",
      "Q100149196         NaN                                                NaN   \n",
      "Q100152296         NaN                                                NaN   \n",
      "Q100156193         NaN  L. H. Millener, Laurie Henry Millener, Laurie ...   \n",
      "\n",
      "            firstName  lastName      wikiID  \n",
      "id                                           \n",
      "Q100142069      Frida    Eggens  Q100142069  \n",
      "Q100146795  Elizabeth  Harrison  Q100146795  \n",
      "Q100149196    Russell       Cox  Q100149196  \n",
      "Q100152296       Alda   Fonseca  Q100152296  \n",
      "Q100156193   Laurence  Millener  Q100156193  \n",
      "      Standard/Label Name  birthYear  deathYear birthYearIsApprox  \\\n",
      "id                                                                  \n",
      "89438          Shin. Sato        NaN        NaN               NaN   \n",
      "64680       E. J. Hoffman        NaN        NaN               NaN   \n",
      "34653     D. W. Stevenson     1942.0        NaN             False   \n",
      "42819  D. Müller-Doblies     1938.0        NaN             False   \n",
      "82862            Boutroux        NaN        NaN               NaN   \n",
      "\n",
      "      geographyISO firstName middleName         lastName B & P Author Abbrev.  \\\n",
      "id                                                                              \n",
      "89438           DE    Shinya        NaN             Sato           Shin. Sato   \n",
      "64680          NaN     Emily         J.          Hoffman        E. J. Hoffman   \n",
      "34653           US    Dennis    William        Stevenson          D. W. Stev.   \n",
      "42819           DE  Dietrich        NaN  Müller-Doblies    D. Müll.-Doblies   \n",
      "82862          NaN        A.        NaN         Boutroux             Boutroux   \n",
      "\n",
      "                                                    Name  harvardIndex  \n",
      "id                                                                      \n",
      "89438                          Sato, Shinya, Shinya Sato         89438  \n",
      "64680                Hoffman, Emily J., Emily J. Hoffman         64680  \n",
      "34653  Stevenson, Dennis William, Dennis William Stev...         34653  \n",
      "42819  Müller-Doblies, Dietrich, Dietrich Müller-Do...         42819  \n",
      "82862                          Boutroux, A., A. Boutroux         82862  \n"
     ]
    }
   ],
   "source": [
    "a = pd.read_csv('~/Downloads/a.csv',chunksize=10000,encoding='utf-8',on_bad_lines='skip',engine='python')\n",
    "a = pd.concat(a)\n",
    "a['wikiID'] = a['id']\n",
    "a = a.set_index('id')\n",
    "print(a.head())\n",
    "\n",
    "b = pd.read_csv('~/Downloads/b.csv',chunksize=10000,encoding='utf-8',on_bad_lines='skip',engine='python')\n",
    "b = pd.concat(b)\n",
    "b['harvardIndex'] = b['id']\n",
    "b = b.set_index('id')\n",
    "print(b.head())"
   ]
  },
  {
   "cell_type": "code",
   "execution_count": 3,
   "id": "14dce753",
   "metadata": {},
   "outputs": [
    {
     "name": "stdout",
     "output_type": "stream",
     "text": [
      "['label', 'dateOfBirth', 'dateOfDeath', 'countryOfCitizenshipISO', 'harvardIndex', 'bionomia', 'authorAbbrv', 'aliases', 'firstName_wiki', 'lastName_wiki', 'wikiID', 'Standard/Label Name', 'birthYear', 'deathYear', 'birthYearIsApprox', 'geographyISO', 'firstName_harvard', 'middleName', 'lastName_harvard', 'B & P Author Abbrev.', 'Name']\n"
     ]
    },
    {
     "data": {
      "text/html": [
       "<div>\n",
       "<style scoped>\n",
       "    .dataframe tbody tr th:only-of-type {\n",
       "        vertical-align: middle;\n",
       "    }\n",
       "\n",
       "    .dataframe tbody tr th {\n",
       "        vertical-align: top;\n",
       "    }\n",
       "\n",
       "    .dataframe thead th {\n",
       "        text-align: right;\n",
       "    }\n",
       "</style>\n",
       "<table border=\"1\" class=\"dataframe\">\n",
       "  <thead>\n",
       "    <tr style=\"text-align: right;\">\n",
       "      <th></th>\n",
       "      <th>label</th>\n",
       "      <th>dateOfBirth</th>\n",
       "      <th>dateOfDeath</th>\n",
       "      <th>countryOfCitizenshipISO</th>\n",
       "      <th>harvardIndex</th>\n",
       "      <th>bionomia</th>\n",
       "      <th>authorAbbrv</th>\n",
       "      <th>aliases</th>\n",
       "      <th>firstName_wiki</th>\n",
       "      <th>lastName_wiki</th>\n",
       "      <th>...</th>\n",
       "      <th>Standard/Label Name</th>\n",
       "      <th>birthYear</th>\n",
       "      <th>deathYear</th>\n",
       "      <th>birthYearIsApprox</th>\n",
       "      <th>geographyISO</th>\n",
       "      <th>firstName_harvard</th>\n",
       "      <th>middleName</th>\n",
       "      <th>lastName_harvard</th>\n",
       "      <th>B &amp; P Author Abbrev.</th>\n",
       "      <th>Name</th>\n",
       "    </tr>\n",
       "  </thead>\n",
       "  <tbody>\n",
       "    <tr>\n",
       "      <th>0</th>\n",
       "      <td>Johann Bartsch</td>\n",
       "      <td>1709.0</td>\n",
       "      <td>1738.0</td>\n",
       "      <td>DE</td>\n",
       "      <td>27614.0</td>\n",
       "      <td>NaN</td>\n",
       "      <td>Bartsch</td>\n",
       "      <td>Johannes Bartsch, Joannes Bartsch, Bartsch</td>\n",
       "      <td>Johann</td>\n",
       "      <td>Bartsch</td>\n",
       "      <td>...</td>\n",
       "      <td>J. Bartsch</td>\n",
       "      <td>1709.0</td>\n",
       "      <td>1738.0</td>\n",
       "      <td>False</td>\n",
       "      <td>NaN</td>\n",
       "      <td>Johann</td>\n",
       "      <td>NaN</td>\n",
       "      <td>Bartsch</td>\n",
       "      <td>Bartsch</td>\n",
       "      <td>Bartsch, Johann, Johann Bartsch</td>\n",
       "    </tr>\n",
       "    <tr>\n",
       "      <th>1</th>\n",
       "      <td>Townshend Stith Brandegee</td>\n",
       "      <td>1843.0</td>\n",
       "      <td>1925.0</td>\n",
       "      <td>US</td>\n",
       "      <td>17284.0</td>\n",
       "      <td>Q1002345</td>\n",
       "      <td>Brandegee</td>\n",
       "      <td>Brandegee, T. S. Brandegee, Townshend S. Brand...</td>\n",
       "      <td>Townshend</td>\n",
       "      <td>Brandegee</td>\n",
       "      <td>...</td>\n",
       "      <td>T. S. Brandegee</td>\n",
       "      <td>1843.0</td>\n",
       "      <td>1925.0</td>\n",
       "      <td>False</td>\n",
       "      <td>MX, US</td>\n",
       "      <td>Townshend</td>\n",
       "      <td>Stith</td>\n",
       "      <td>Brandegee</td>\n",
       "      <td>Brandegee</td>\n",
       "      <td>Brandegee, Townshend Stith, Townshend Stith Br...</td>\n",
       "    </tr>\n",
       "    <tr>\n",
       "      <th>2</th>\n",
       "      <td>Cécile Kruyfhooft</td>\n",
       "      <td>1950.0</td>\n",
       "      <td>NaN</td>\n",
       "      <td>BE</td>\n",
       "      <td>18988.0</td>\n",
       "      <td>NaN</td>\n",
       "      <td>NaN</td>\n",
       "      <td>NaN</td>\n",
       "      <td>Cécile</td>\n",
       "      <td>Kruyfhooft</td>\n",
       "      <td>...</td>\n",
       "      <td>C. Kruyfhooft</td>\n",
       "      <td>1950.0</td>\n",
       "      <td>NaN</td>\n",
       "      <td>False</td>\n",
       "      <td>BE</td>\n",
       "      <td>Cecile</td>\n",
       "      <td>NaN</td>\n",
       "      <td>Kruyfhooft</td>\n",
       "      <td>NaN</td>\n",
       "      <td>Kruyfhooft, Cecile</td>\n",
       "    </tr>\n",
       "    <tr>\n",
       "      <th>3</th>\n",
       "      <td>Charles Bullard</td>\n",
       "      <td>1869.0</td>\n",
       "      <td>1960.0</td>\n",
       "      <td>US</td>\n",
       "      <td>3553.0</td>\n",
       "      <td>Q100354624</td>\n",
       "      <td>NaN</td>\n",
       "      <td>C. Bullard</td>\n",
       "      <td>Charles</td>\n",
       "      <td>Bullard</td>\n",
       "      <td>...</td>\n",
       "      <td>Charles Bullard</td>\n",
       "      <td>1869.0</td>\n",
       "      <td>NaN</td>\n",
       "      <td>False</td>\n",
       "      <td>US</td>\n",
       "      <td>Charles</td>\n",
       "      <td>NaN</td>\n",
       "      <td>Bullard</td>\n",
       "      <td>NaN</td>\n",
       "      <td>Bullard, Charles</td>\n",
       "    </tr>\n",
       "    <tr>\n",
       "      <th>4</th>\n",
       "      <td>Zubair Aslam</td>\n",
       "      <td>NaN</td>\n",
       "      <td>NaN</td>\n",
       "      <td>NaN</td>\n",
       "      <td>88384.0</td>\n",
       "      <td>NaN</td>\n",
       "      <td>NaN</td>\n",
       "      <td>NaN</td>\n",
       "      <td>Zubair</td>\n",
       "      <td>Aslam</td>\n",
       "      <td>...</td>\n",
       "      <td>Z. Aslam</td>\n",
       "      <td>NaN</td>\n",
       "      <td>NaN</td>\n",
       "      <td>NaN</td>\n",
       "      <td>KR</td>\n",
       "      <td>Zubair</td>\n",
       "      <td>NaN</td>\n",
       "      <td>Aslam</td>\n",
       "      <td>Aslam</td>\n",
       "      <td>Aslam, Zubair</td>\n",
       "    </tr>\n",
       "  </tbody>\n",
       "</table>\n",
       "<p>5 rows × 21 columns</p>\n",
       "</div>"
      ],
      "text/plain": [
       "                       label  dateOfBirth  dateOfDeath  \\\n",
       "0             Johann Bartsch       1709.0       1738.0   \n",
       "1  Townshend Stith Brandegee       1843.0       1925.0   \n",
       "2          Cécile Kruyfhooft       1950.0          NaN   \n",
       "3            Charles Bullard       1869.0       1960.0   \n",
       "4               Zubair Aslam          NaN          NaN   \n",
       "\n",
       "  countryOfCitizenshipISO  harvardIndex    bionomia authorAbbrv  \\\n",
       "0                      DE       27614.0         NaN     Bartsch   \n",
       "1                      US       17284.0    Q1002345   Brandegee   \n",
       "2                      BE       18988.0         NaN         NaN   \n",
       "3                      US        3553.0  Q100354624         NaN   \n",
       "4                     NaN       88384.0         NaN         NaN   \n",
       "\n",
       "                                             aliases firstName_wiki  \\\n",
       "0         Johannes Bartsch, Joannes Bartsch, Bartsch         Johann   \n",
       "1  Brandegee, T. S. Brandegee, Townshend S. Brand...      Townshend   \n",
       "2                                                NaN         Cécile   \n",
       "3                                         C. Bullard        Charles   \n",
       "4                                                NaN         Zubair   \n",
       "\n",
       "  lastName_wiki  ... Standard/Label Name birthYear  deathYear  \\\n",
       "0       Bartsch  ...          J. Bartsch    1709.0     1738.0   \n",
       "1     Brandegee  ...     T. S. Brandegee    1843.0     1925.0   \n",
       "2    Kruyfhooft  ...       C. Kruyfhooft    1950.0        NaN   \n",
       "3       Bullard  ...     Charles Bullard    1869.0        NaN   \n",
       "4         Aslam  ...            Z. Aslam       NaN        NaN   \n",
       "\n",
       "   birthYearIsApprox geographyISO firstName_harvard middleName  \\\n",
       "0              False          NaN            Johann        NaN   \n",
       "1              False       MX, US         Townshend      Stith   \n",
       "2              False           BE            Cecile        NaN   \n",
       "3              False           US           Charles        NaN   \n",
       "4                NaN           KR            Zubair        NaN   \n",
       "\n",
       "  lastName_harvard B & P Author Abbrev.  \\\n",
       "0          Bartsch              Bartsch   \n",
       "1        Brandegee            Brandegee   \n",
       "2       Kruyfhooft                  NaN   \n",
       "3          Bullard                  NaN   \n",
       "4            Aslam                Aslam   \n",
       "\n",
       "                                                Name  \n",
       "0                    Bartsch, Johann, Johann Bartsch  \n",
       "1  Brandegee, Townshend Stith, Townshend Stith Br...  \n",
       "2                                 Kruyfhooft, Cecile  \n",
       "3                                   Bullard, Charles  \n",
       "4                                      Aslam, Zubair  \n",
       "\n",
       "[5 rows x 21 columns]"
      ]
     },
     "execution_count": 3,
     "metadata": {},
     "output_type": "execute_result"
    }
   ],
   "source": [
    "# Find out the True Matches of dataframe A and dataframe B\n",
    "a['harvardIndex'] = pd.to_numeric(a['harvardIndex'],errors='coerce') \n",
    "temp = pd.merge(a, b, how='inner', on=None, left_on='harvardIndex', right_on='harvardIndex',\n",
    "                  left_index=False, right_index=False, sort=False,\n",
    "                  suffixes=('_wiki', '_harvard'), copy=False, indicator=False)\n",
    "\n",
    "print(temp.columns.to_list())\n",
    "temp.head()"
   ]
  },
  {
   "cell_type": "code",
   "execution_count": 4,
   "id": "6df81b55",
   "metadata": {},
   "outputs": [],
   "source": [
    "'''\n",
    "use the pd.merge above to prepare training data -- find out the index true pairs\n",
    "training = 0.75, testing = 0.25, no validat set\n",
    "\n",
    "experiment setting\n",
    "    - supervised: Logistics regression, navie bayes, SVM\n",
    "    - undupervised: k-mean, ECM\n",
    "\n",
    "refs\n",
    "https://recordlinkage.readthedocs.io/en/latest/ref-classifiers.html\n",
    "https://recordlinkage.readthedocs.io/en/latest/guides/classifiers.html#\n",
    "'''\n",
    "\n",
    "def define_true_pairs(indexList1, indexList2, indexName1, indexName2):\n",
    "    arrays = [indexList1, indexList2]\n",
    "    tuples = list(zip(*arrays))\n",
    "    index = pd.MultiIndex.from_tuples(tuples, names=[indexName1, indexName2])\n",
    "    return index"
   ]
  },
  {
   "cell_type": "code",
   "execution_count": 5,
   "id": "dff956eb",
   "metadata": {},
   "outputs": [],
   "source": [
    "true_matches = define_true_pairs(temp['wikiID'],temp['harvardIndex'].astype(int),'wikiIndex','harvardIndex')"
   ]
  },
  {
   "cell_type": "code",
   "execution_count": 6,
   "id": "12f30b72",
   "metadata": {},
   "outputs": [
    {
     "data": {
      "text/plain": [
       "5.0      1993\n",
       "4.0      8057\n",
       "3.0      9194\n",
       "2.0     19307\n",
       "1.0     96232\n",
       "0.0    650037\n",
       "dtype: int64"
      ]
     },
     "execution_count": 6,
     "metadata": {},
     "output_type": "execute_result"
    }
   ],
   "source": [
    "dfa = a.copy()\n",
    "dfb = b.copy()\n",
    "indexer = recordlinkage.Index()\n",
    "indexer.block('lastName')# indexer.sortedneighbourhood\n",
    "candidate_links = indexer.index(dfa, dfb)\n",
    "compare_cl = recordlinkage.Compare()\n",
    "compare_cl.string('firstName', 'firstName', method='jarowinkler', threshold=0.85, label='firstName')\n",
    "compare_cl.exact('dateOfBirth', 'birthYear', label='dateOfBirth')\n",
    "compare_cl.exact('dateOfDeath', 'deathYear', label='dateOfDeath')\n",
    "compare_cl.string('authorAbbrv', 'B & P Author Abbrev.', method='jarowinkler', threshold=0.85, label='authorAbbrv')\n",
    "compare_cl.string('countryOfCitizenshipISO', 'geographyISO', method='jarowinkler', threshold=0.85, label='geographyISO')\n",
    "# compare_cl.add(CompareAliases('label', 'Name', threshold=0.85, label='sim'))\n",
    "\n",
    "features = compare_cl.compute(candidate_links, dfa, dfb)\n",
    "features.sum(axis=1).value_counts().sort_index(ascending=False)"
   ]
  },
  {
   "cell_type": "code",
   "execution_count": 9,
   "id": "208799b1",
   "metadata": {},
   "outputs": [
    {
     "name": "stdout",
     "output_type": "stream",
     "text": [
      "Threshold-Based: 19244 matches\n"
     ]
    },
    {
     "name": "stderr",
     "output_type": "stream",
     "text": [
      "/Users/mbax9qg2/anaconda3/envs/dgl/lib/python3.9/site-packages/recordlinkage/measures.py:147: FutureWarning: Index.__and__ operating as a set operation is deprecated, in the future this will be a logical operation matching Series.__and__.  Use index.intersection(other) instead.\n",
      "  return len(links_true & links_pred)\n",
      "/Users/mbax9qg2/anaconda3/envs/dgl/lib/python3.9/site-packages/recordlinkage/measures.py:179: FutureWarning: Index.__or__ operating as a set operation is deprecated, in the future this will be a logical operation matching Series.__or__.  Use index.union(other) instead.\n",
      "  return int(total) - len(links_true | links_pred)\n"
     ]
    }
   ],
   "source": [
    "# Threshold-based methods\n",
    "\n",
    "# Make Predictions based on threshold > 50%\n",
    "predictions = features[features.sum(axis=1) > 2.5]\n",
    "print(\"Threshold-Based: {} matches\".format(len(predictions)))\n",
    "\n",
    "# Get the confusion matrix. This is just the table with the numbers of True/False Postives and True/False Negatives.\n",
    "confusion_matrix = recordlinkage.confusion_matrix(true_matches, predictions, len(features))"
   ]
  },
  {
   "cell_type": "code",
   "execution_count": 12,
   "id": "f1334d70",
   "metadata": {},
   "outputs": [
    {
     "name": "stdout",
     "output_type": "stream",
     "text": [
      "Precision: 0.8341301184784868\n",
      "Recall: 0.5174392366707498\n",
      "Accuracy: 0.9768583879106038\n",
      "F-Measure: 0.6386822106393983\n"
     ]
    }
   ],
   "source": [
    "# Print Metrics\n",
    "print(\"Precision:\", recordlinkage.precision(confusion_matrix))\n",
    "print(\"Recall:\", recordlinkage.recall(confusion_matrix))\n",
    "print(\"Accuracy:\", recordlinkage.accuracy(confusion_matrix))\n",
    "print(\"F-Measure:\", recordlinkage.fscore(confusion_matrix))"
   ]
  },
  {
   "cell_type": "code",
   "execution_count": 61,
   "id": "ef1953d5",
   "metadata": {},
   "outputs": [],
   "source": [
    "# Create a training and test set\n",
    "train, test = train_test_split(features, test_size=0.25)\n",
    "\n",
    "# Get the true pairs for the test set (Used for Evaluation)\n",
    "test_matches_index = test.index.intersection(true_matches)"
   ]
  },
  {
   "cell_type": "code",
   "execution_count": 62,
   "id": "100f409b",
   "metadata": {},
   "outputs": [
    {
     "name": "stderr",
     "output_type": "stream",
     "text": [
      "/Users/mbax9qg2/anaconda3/envs/dgl/lib/python3.9/site-packages/recordlinkage/measures.py:147: FutureWarning: Index.__and__ operating as a set operation is deprecated, in the future this will be a logical operation matching Series.__and__.  Use index.intersection(other) instead.\n",
      "  return len(links_true & links_pred)\n",
      "/Users/mbax9qg2/anaconda3/envs/dgl/lib/python3.9/site-packages/recordlinkage/measures.py:179: FutureWarning: Index.__or__ operating as a set operation is deprecated, in the future this will be a logical operation matching Series.__or__.  Use index.union(other) instead.\n",
      "  return int(total) - len(links_true | links_pred)\n"
     ]
    }
   ],
   "source": [
    "# Expectation/Conditional Maxisation Classifier\n",
    "\n",
    "# Initialize the classifier\n",
    "ecm = recordlinkage.ECMClassifier()\n",
    "# Train the Model\n",
    "train_ecm = ecm.fit_predict(train)\n",
    "# Make Predictions on a test set\n",
    "predictions = ecm.predict(test)\n",
    "\n",
    "# Get the confusion matrix. This is just the table with the numbers of True/False Postives and True/False Negatives.\n",
    "confusion_matrix = recordlinkage.confusion_matrix(test_matches_index, predictions, len(test))"
   ]
  },
  {
   "cell_type": "code",
   "execution_count": 63,
   "id": "445d57ef",
   "metadata": {},
   "outputs": [
    {
     "name": "stdout",
     "output_type": "stream",
     "text": [
      "Precision: 0.7020594965675058\n",
      "Recall: 0.9122807017543859\n",
      "Accuracy: 0.98372110802477\n",
      "F-Measure: 0.793482477693004\n"
     ]
    }
   ],
   "source": [
    "# Print Metrics\n",
    "print(\"Precision:\", recordlinkage.precision(confusion_matrix))\n",
    "print(\"Recall:\", recordlinkage.recall(confusion_matrix))\n",
    "print(\"Accuracy:\", recordlinkage.accuracy(confusion_matrix))\n",
    "print(\"F-Measure:\", recordlinkage.fscore(confusion_matrix))"
   ]
  },
  {
   "cell_type": "code",
   "execution_count": 64,
   "id": "1ba7eb6a",
   "metadata": {},
   "outputs": [
    {
     "name": "stderr",
     "output_type": "stream",
     "text": [
      "/Users/mbax9qg2/anaconda3/envs/dgl/lib/python3.9/site-packages/recordlinkage/base.py:899: UserWarning: learn is deprecated, KMeansClassifier.fit_predict instead\n",
      "  warnings.warn(\"learn is deprecated, {}.fit_predict \"\n",
      "/Users/mbax9qg2/anaconda3/envs/dgl/lib/python3.9/site-packages/recordlinkage/measures.py:147: FutureWarning: Index.__and__ operating as a set operation is deprecated, in the future this will be a logical operation matching Series.__and__.  Use index.intersection(other) instead.\n",
      "  return len(links_true & links_pred)\n",
      "/Users/mbax9qg2/anaconda3/envs/dgl/lib/python3.9/site-packages/recordlinkage/measures.py:179: FutureWarning: Index.__or__ operating as a set operation is deprecated, in the future this will be a logical operation matching Series.__or__.  Use index.union(other) instead.\n",
      "  return int(total) - len(links_true | links_pred)\n"
     ]
    }
   ],
   "source": [
    "# K-means Classifier\n",
    "# Initialize the classifier\n",
    "kmeans = recordlinkage.KMeansClassifier()\n",
    "\n",
    "# Train the Model\n",
    "train_kmeans = kmeans.learn(train)\n",
    "# Make Predictions on a test set\n",
    "predictions = kmeans.predict(test)\n",
    "\n",
    "# Get the confusion matrix. This is just the table with the numbers of True/False Postives and True/False Negatives.\n",
    "confusion_matrix = recordlinkage.confusion_matrix(test_matches_index, predictions, len(test))"
   ]
  },
  {
   "cell_type": "code",
   "execution_count": 65,
   "id": "d71bde90",
   "metadata": {},
   "outputs": [
    {
     "name": "stdout",
     "output_type": "stream",
     "text": [
      "Precision: 0.7034937528921795\n",
      "Recall: 0.9041034790365745\n",
      "Accuracy: 0.9836497540837389\n",
      "F-Measure: 0.7912817176317501\n"
     ]
    }
   ],
   "source": [
    "# Print Metrics\n",
    "print(\"Precision:\", recordlinkage.precision(confusion_matrix))\n",
    "print(\"Recall:\", recordlinkage.recall(confusion_matrix))\n",
    "print(\"Accuracy:\", recordlinkage.accuracy(confusion_matrix))\n",
    "print(\"F-Measure:\", recordlinkage.fscore(confusion_matrix))"
   ]
  },
  {
   "cell_type": "code",
   "execution_count": 66,
   "id": "049a9f6e",
   "metadata": {},
   "outputs": [],
   "source": [
    "# Create a training and test set\n",
    "train, test = train_test_split(features, test_size=0.25)\n",
    "\n",
    "# Get the true pairs for each set\n",
    "train_matches_index = train.index.intersection(true_matches)\n",
    "test_matches_index = test.index.intersection(true_matches)"
   ]
  },
  {
   "cell_type": "code",
   "execution_count": 68,
   "id": "9421c3a9",
   "metadata": {},
   "outputs": [
    {
     "name": "stderr",
     "output_type": "stream",
     "text": [
      "/Users/mbax9qg2/anaconda3/envs/dgl/lib/python3.9/site-packages/recordlinkage/base.py:950: FutureWarning: Index.__and__ operating as a set operation is deprecated, in the future this will be a logical operation matching Series.__and__.  Use index.intersection(other) instead.\n",
      "  y.loc[match_index & comparison_vectors.index] = 1\n",
      "/Users/mbax9qg2/anaconda3/envs/dgl/lib/python3.9/site-packages/recordlinkage/measures.py:147: FutureWarning: Index.__and__ operating as a set operation is deprecated, in the future this will be a logical operation matching Series.__and__.  Use index.intersection(other) instead.\n",
      "  return len(links_true & links_pred)\n",
      "/Users/mbax9qg2/anaconda3/envs/dgl/lib/python3.9/site-packages/recordlinkage/measures.py:179: FutureWarning: Index.__or__ operating as a set operation is deprecated, in the future this will be a logical operation matching Series.__or__.  Use index.union(other) instead.\n",
      "  return int(total) - len(links_true | links_pred)\n"
     ]
    }
   ],
   "source": [
    "# Logistic Regression\n",
    "\n",
    "# Initialize the classifier\n",
    "logisticRegression = recordlinkage.LogisticRegressionClassifier()\n",
    "\n",
    "# Train the classifier\n",
    "logisticRegression.fit_predict(train, train_matches_index)\n",
    "\n",
    "# Make Predictions on a test set\n",
    "predictions = logisticRegression.predict(test)\n",
    "\n",
    "# Get the confusion matrix. This is just the table with the numbers of True/False Postives and True/False Negatives.\n",
    "confusion_matrix = recordlinkage.confusion_matrix(test_matches_index, predictions, len(test))"
   ]
  },
  {
   "cell_type": "code",
   "execution_count": 69,
   "id": "e016e843",
   "metadata": {},
   "outputs": [
    {
     "name": "stdout",
     "output_type": "stream",
     "text": [
      "Precision: 0.7267690757995467\n",
      "Recall: 0.8388315651794798\n",
      "Accuracy: 0.9832878876685099\n",
      "F-Measure: 0.7787897186804291\n"
     ]
    }
   ],
   "source": [
    "# Print Metrics\n",
    "print(\"Precision:\", recordlinkage.precision(confusion_matrix))\n",
    "print(\"Recall:\", recordlinkage.recall(confusion_matrix))\n",
    "print(\"Accuracy:\", recordlinkage.accuracy(confusion_matrix))\n",
    "print(\"F-Measure:\", recordlinkage.fscore(confusion_matrix))"
   ]
  },
  {
   "cell_type": "code",
   "execution_count": 72,
   "id": "9f1a3ae4",
   "metadata": {},
   "outputs": [
    {
     "name": "stderr",
     "output_type": "stream",
     "text": [
      "/Users/mbax9qg2/anaconda3/envs/dgl/lib/python3.9/site-packages/recordlinkage/base.py:950: FutureWarning: Index.__and__ operating as a set operation is deprecated, in the future this will be a logical operation matching Series.__and__.  Use index.intersection(other) instead.\n",
      "  y.loc[match_index & comparison_vectors.index] = 1\n",
      "/Users/mbax9qg2/anaconda3/envs/dgl/lib/python3.9/site-packages/recordlinkage/measures.py:147: FutureWarning: Index.__and__ operating as a set operation is deprecated, in the future this will be a logical operation matching Series.__and__.  Use index.intersection(other) instead.\n",
      "  return len(links_true & links_pred)\n",
      "/Users/mbax9qg2/anaconda3/envs/dgl/lib/python3.9/site-packages/recordlinkage/measures.py:179: FutureWarning: Index.__or__ operating as a set operation is deprecated, in the future this will be a logical operation matching Series.__or__.  Use index.union(other) instead.\n",
      "  return int(total) - len(links_true | links_pred)\n"
     ]
    }
   ],
   "source": [
    "# Support Vector Machine Classifier\n",
    "\n",
    "# Initialize the classifier\n",
    "svm = recordlinkage.SVMClassifier()\n",
    "\n",
    "# Train the classifier\n",
    "svm.fit_predict(train, train_matches_index)\n",
    "\n",
    "# Make Predictions on a test set\n",
    "predictions = svm.predict(test)\n",
    "\n",
    "# Get the confusion matrix. This is just the table with the numbers of True/False Postives and True/False Negatives.\n",
    "confusion_matrix = recordlinkage.confusion_matrix(test_matches_index, predictions, len(test))"
   ]
  },
  {
   "cell_type": "code",
   "execution_count": 73,
   "id": "eb480e24",
   "metadata": {},
   "outputs": [
    {
     "name": "stdout",
     "output_type": "stream",
     "text": [
      "Precision: 0.8369587735653615\n",
      "Recall: 0.5871239645400378\n",
      "Accuracy: 0.981509135852807\n",
      "F-Measure: 0.6901264092927912\n"
     ]
    }
   ],
   "source": [
    "# Print Metrics\n",
    "print(\"Precision:\", recordlinkage.precision(confusion_matrix))\n",
    "print(\"Recall:\", recordlinkage.recall(confusion_matrix))\n",
    "print(\"Accuracy:\", recordlinkage.accuracy(confusion_matrix))\n",
    "print(\"F-Measure:\", recordlinkage.fscore(confusion_matrix))"
   ]
  },
  {
   "cell_type": "code",
   "execution_count": 74,
   "id": "b6dc67d1",
   "metadata": {},
   "outputs": [
    {
     "name": "stderr",
     "output_type": "stream",
     "text": [
      "/Users/mbax9qg2/anaconda3/envs/dgl/lib/python3.9/site-packages/recordlinkage/base.py:950: FutureWarning: Index.__and__ operating as a set operation is deprecated, in the future this will be a logical operation matching Series.__and__.  Use index.intersection(other) instead.\n",
      "  y.loc[match_index & comparison_vectors.index] = 1\n",
      "/Users/mbax9qg2/anaconda3/envs/dgl/lib/python3.9/site-packages/recordlinkage/measures.py:147: FutureWarning: Index.__and__ operating as a set operation is deprecated, in the future this will be a logical operation matching Series.__and__.  Use index.intersection(other) instead.\n",
      "  return len(links_true & links_pred)\n",
      "/Users/mbax9qg2/anaconda3/envs/dgl/lib/python3.9/site-packages/recordlinkage/measures.py:179: FutureWarning: Index.__or__ operating as a set operation is deprecated, in the future this will be a logical operation matching Series.__or__.  Use index.union(other) instead.\n",
      "  return int(total) - len(links_true | links_pred)\n"
     ]
    }
   ],
   "source": [
    "# Naive Bayes Classifier\n",
    "\n",
    "# Initialize the classifier\n",
    "naiveBayes = recordlinkage.NaiveBayesClassifier()\n",
    "\n",
    "# Train the classifier\n",
    "naiveBayes.fit_predict(train, train_matches_index)\n",
    "\n",
    "# Make Predictions on a test set\n",
    "predictions = naiveBayes.predict(test)\n",
    "\n",
    "# Get the confusion matrix. This is just the table with the numbers of True/False Postives and True/False Negatives.\n",
    "confusion_matrix = recordlinkage.confusion_matrix(test_matches_index, predictions, len(test))"
   ]
  },
  {
   "cell_type": "code",
   "execution_count": 75,
   "id": "d1528a0f",
   "metadata": {},
   "outputs": [
    {
     "name": "stdout",
     "output_type": "stream",
     "text": [
      "Precision: 0.7081312732604037\n",
      "Recall: 0.9125127161749745\n",
      "Accuracy: 0.9837414948650646\n",
      "F-Measure: 0.7974345948691897\n"
     ]
    }
   ],
   "source": [
    "# Print Metrics\n",
    "print(\"Precision:\", recordlinkage.precision(confusion_matrix))\n",
    "print(\"Recall:\", recordlinkage.recall(confusion_matrix))\n",
    "print(\"Accuracy:\", recordlinkage.accuracy(confusion_matrix))\n",
    "print(\"F-Measure:\", recordlinkage.fscore(confusion_matrix))"
   ]
  },
  {
   "cell_type": "code",
   "execution_count": null,
   "id": "fb1c1d27",
   "metadata": {},
   "outputs": [],
   "source": [
    "def find_AinB(df1, col1, df2, col2, threshold):\n",
    "    newCol = []\n",
    "    for index1, rowValue1 in df1[col1].iteritems():\n",
    "        temp = []\n",
    "        for index2, rowValue2 in df2[col2].iteritems():\n",
    "            # \n",
    "            sim = process.extractOne(str(rowValue1),str(rowValue2).split(','), scorer=fuzz.ratio)\n",
    "            if sim[-1] >= threshold: temp.append(index2)\n",
    "        newCol.append(temp)\n",
    "    return newCol"
   ]
  },
  {
   "cell_type": "code",
   "execution_count": null,
   "id": "ae1a1367",
   "metadata": {},
   "outputs": [],
   "source": [
    "temp = find_AinB(a, 'label', b, 'Name', 85)"
   ]
  },
  {
   "cell_type": "code",
   "execution_count": null,
   "id": "87cefc50",
   "metadata": {},
   "outputs": [],
   "source": [
    "from fastparquet import ParquetFile\n",
    "temp.to_parquet('find_names.parquet', engine='fastparquet',encoding='utf-8')"
   ]
  }
 ],
 "metadata": {
  "kernelspec": {
   "display_name": "Python 3 (ipykernel)",
   "language": "python",
   "name": "python3"
  },
  "language_info": {
   "codemirror_mode": {
    "name": "ipython",
    "version": 3
   },
   "file_extension": ".py",
   "mimetype": "text/x-python",
   "name": "python",
   "nbconvert_exporter": "python",
   "pygments_lexer": "ipython3",
   "version": "3.9.12"
  }
 },
 "nbformat": 4,
 "nbformat_minor": 5
}
